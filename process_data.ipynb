{
 "cells": [
  {
   "cell_type": "code",
   "execution_count": 1,
   "metadata": {},
   "outputs": [],
   "source": [
    "import matplotlib.pyplot as plt\n",
    "import numpy as np\n",
    "import pickle\n",
    "import scipy\n",
    "from tqdm import tqdm\n",
    "import copy\n",
    "import scipy.signal"
   ]
  },
  {
   "cell_type": "code",
   "execution_count": 2,
   "metadata": {},
   "outputs": [],
   "source": [
    "CV=pickle.load( open('CV.CV', \"rb\" ) )"
   ]
  },
  {
   "cell_type": "code",
   "execution_count": 3,
   "metadata": {},
   "outputs": [],
   "source": [
    "def norm_row(inp):\n",
    "    out=copy.deepcopy(inp)\n",
    "    for i in range(5,252):\n",
    "        out[:,i]=(out[:,i]-np.average(inp[:,i-3:i+4]))/np.std(inp[:,i-3:i+4])\n",
    "    return out"
   ]
  },
  {
   "cell_type": "code",
   "execution_count": 4,
   "metadata": {},
   "outputs": [],
   "source": [
    "#ampxcos(phase)\n",
    "import copy\n",
    "def norm_row(inp):\n",
    "    out=copy.deepcopy(inp)\n",
    "    for i in range(5,252):\n",
    "        out[:,i]=(out[:,i]-np.average(inp[:,i-3:i+4]))/np.std(inp[:,i-3:i+4])\n",
    "    return out\n",
    "for fnum in range(70,74):\n",
    "    #prep figure\n",
    "    fig=plt.figure(figsize=(8,2))\n",
    "    axes=fig.subplots(1,2,gridspec_kw={'width_ratios': [4, 1]})\n",
    "    fig.subplots_adjust(left=0, bottom=0.05, right=0.98, top=0.95, wspace=-0.05, hspace=None)\n",
    "    axes[0].axis('off')\n",
    "    axes[1].tick_params(\n",
    "        bottom=False,         # ticks along the top edge are off\n",
    "        left=False,         # ticks along the top edge are off\n",
    "        labelbottom=False, # labels along the bottom edge are off\n",
    "        labelleft=False) # labels along the bottom edge are off\n",
    "    # load frame\n",
    "    fnumstr=str(fnum)\n",
    "    while len(fnumstr)<3:\n",
    "        fnumstr='0'+fnumstr\n",
    "    fname='data/run4_0'+fnumstr+'_fit.lsqfit'\n",
    "    hybrid_fit=pickle.load( open(fname, \"rb\" ) )\n",
    "    # prep frame\n",
    "    phase=hybrid_fit['phase'][0:79]*np.pi*2\n",
    "    avg_phase=np.average(phase%np.pi)\n",
    "    frame=hybrid_fit['amplitude'][0:79]*np.cos(phase-avg_phase)\n",
    "    frame=norm_row(frame)\n",
    "    # plot frame\n",
    "    frame_1d=frame.reshape((-1))\n",
    "    vmin=np.percentile(frame,1)\n",
    "    vmax=np.percentile(frame,99)\n",
    "    cs=axes[0].imshow(frame,vmin=vmin,vmax=vmax,cmap='Greys')\n",
    "    # plot CV\n",
    "    axes[1].plot(CV['V'],CV['C']*1E10,color=[0,0,0],lw=0.2)\n",
    "    CVi=fnum-2\n",
    "    axes[1].plot(CV['V'][CVi],CV['C'][CVi]*1E10,'o',color=[1,0,0],fillstyle='none')\n",
    "    # save fig\n",
    "    fig.savefig('plots/run4_ampxcosphase_'+str(fnum)+'.png',dpi=300)\n",
    "    plt.close()"
   ]
  },
  {
   "cell_type": "code",
   "execution_count": null,
   "metadata": {},
   "outputs": [],
   "source": []
  },
  {
   "cell_type": "code",
   "execution_count": 5,
   "metadata": {},
   "outputs": [],
   "source": [
    "#ampxsinphase +diff countourlines\n",
    "def sg2d(frame, w,o,deriv=0):\n",
    "    frame2=copy.deepcopy(frame)\n",
    "    for i in range(256):\n",
    "        frame2[:,i]=scipy.signal.savgol_filter(frame[:,i], w, o,deriv=deriv)\n",
    "    return frame2\n",
    "def remove_max_min(frame,p):\n",
    "    mi=np.percentile(frame,p)\n",
    "    ma=np.percentile(frame,100-p)\n",
    "    frame[frame<mi]=mi\n",
    "    frame[frame>ma]=ma\n",
    "    return frame\n",
    "\n",
    "for fnum in range(70,73):\n",
    "    #prep figure\n",
    "    fig=plt.figure(figsize=(8,2))\n",
    "    axes=fig.subplots(1,2,gridspec_kw={'width_ratios': [4, 1]})\n",
    "    fig.subplots_adjust(left=0, bottom=0.05, right=0.98, top=0.95, wspace=-0.05, hspace=None)\n",
    "    axes[0].axis('off')\n",
    "    axes[1].tick_params(\n",
    "        bottom=False,         # ticks along the top edge are off\n",
    "        left=False,         # ticks along the top edge are off\n",
    "        labelbottom=False, # labels along the bottom edge are off\n",
    "        labelleft=False) # labels along the bottom edge are off\n",
    "    # load frame 0\n",
    "    fnumstr=str(fnum)\n",
    "    while len(fnumstr)<3:\n",
    "        fnumstr='0'+fnumstr\n",
    "    fname='data/run4_0'+fnumstr+'_fit.lsqfit'\n",
    "    hybrid_fit_0=pickle.load( open(fname, \"rb\" ))\n",
    "    # load frame 1\n",
    "    fnumstrp1=str(fnum+1)\n",
    "    while len(fnumstrp1)<3:\n",
    "        fnumstrp1='0'+fnumstrp1\n",
    "    fnamep1='data/run4_0'+fnumstrp1+'_fit.lsqfit'\n",
    "    hybrid_fit_1=pickle.load( open(fnamep1, \"rb\" ))\n",
    "    # prep frame0\n",
    "    phase=hybrid_fit_0['phase'][0:79]*np.pi*2\n",
    "    avg_phase=np.average(phase%np.pi)\n",
    "    frame_0=hybrid_fit_0['amplitude'][0:79]*np.cos(phase-avg_phase)\n",
    "    frame_0=norm_row(frame_0)\n",
    "    # prep frame1\n",
    "    phase=hybrid_fit_1['phase'][0:79]*np.pi*2\n",
    "    avg_phase=np.average(phase%np.pi)\n",
    "    frame_1=hybrid_fit_1['amplitude'][0:79]*np.cos(phase-avg_phase)\n",
    "    frame_1=norm_row(frame_1)\n",
    "    # plot frame1\n",
    "    vmin=np.percentile(frame,1)\n",
    "    vmax=np.percentile(frame,99)\n",
    "    cs=axes[0].imshow(frame_1,vmin=vmin,vmax=vmax,cmap='Greys')\n",
    "    # make contour lines\n",
    "    frame_0=remove_max_min(frame_0,4)\n",
    "    frame_1=remove_max_min(frame_1,4)\n",
    "    diff=frame_1-frame_0\n",
    "    diff0=diff\n",
    "    #diff=derX(diff)\n",
    "    diff-=np.average(diff)\n",
    "    diff=sg2d(diff,3,2,deriv=1)\n",
    "    diff=np.abs(diff)\n",
    "    diff=scipy.ndimage.gaussian_filter(diff,2)\n",
    "    diff[0]=scipy.ndimage.gaussian_filter(diff[0],2)\n",
    "    diff[-1]=scipy.ndimage.gaussian_filter(diff[-1],2)\n",
    "    diff[1]=scipy.ndimage.gaussian_filter(diff[1],2)\n",
    "    diff[-2]=scipy.ndimage.gaussian_filter(diff[-2],2)\n",
    "    diff[diff>0.3]=1\n",
    "    diff[diff<1]=0\n",
    "    try:\n",
    "        cs=axes[0].contour(diff,levels=[-0.1,0.2,1.2],linewidths =1.5,colors=[1,0,0])\n",
    "    except:\n",
    "        None\n",
    "    axes[1].plot(CV['V'],CV['C']*1E10,color=[0,0,0],lw=0.2)\n",
    "    # plot CV\n",
    "    CVi=fnum-2\n",
    "    axes[1].plot(CV['V'][CVi+1],CV['C'][CVi+1]*1E10,'o',color=[1,0,0],fillstyle='none')\n",
    "    # save\n",
    "    fig.savefig('plots/run4_ampxcosphase_contour'+str(fnum)+'.png',dpi=300)\n",
    "    plt.close()"
   ]
  },
  {
   "cell_type": "code",
   "execution_count": null,
   "metadata": {},
   "outputs": [],
   "source": []
  },
  {
   "cell_type": "code",
   "execution_count": null,
   "metadata": {},
   "outputs": [],
   "source": []
  },
  {
   "cell_type": "code",
   "execution_count": null,
   "metadata": {},
   "outputs": [],
   "source": []
  },
  {
   "cell_type": "code",
   "execution_count": null,
   "metadata": {},
   "outputs": [],
   "source": []
  },
  {
   "cell_type": "code",
   "execution_count": null,
   "metadata": {},
   "outputs": [],
   "source": []
  },
  {
   "cell_type": "code",
   "execution_count": null,
   "metadata": {},
   "outputs": [],
   "source": []
  },
  {
   "cell_type": "code",
   "execution_count": null,
   "metadata": {},
   "outputs": [],
   "source": []
  },
  {
   "cell_type": "code",
   "execution_count": null,
   "metadata": {},
   "outputs": [],
   "source": []
  },
  {
   "cell_type": "code",
   "execution_count": null,
   "metadata": {},
   "outputs": [],
   "source": []
  },
  {
   "cell_type": "code",
   "execution_count": null,
   "metadata": {},
   "outputs": [],
   "source": []
  },
  {
   "cell_type": "code",
   "execution_count": null,
   "metadata": {},
   "outputs": [],
   "source": []
  },
  {
   "cell_type": "code",
   "execution_count": null,
   "metadata": {},
   "outputs": [],
   "source": []
  },
  {
   "cell_type": "code",
   "execution_count": null,
   "metadata": {},
   "outputs": [],
   "source": []
  },
  {
   "cell_type": "code",
   "execution_count": null,
   "metadata": {},
   "outputs": [],
   "source": []
  }
 ],
 "metadata": {
  "kernelspec": {
   "display_name": "Python 3",
   "language": "python",
   "name": "python3"
  },
  "language_info": {
   "codemirror_mode": {
    "name": "ipython",
    "version": 3
   },
   "file_extension": ".py",
   "mimetype": "text/x-python",
   "name": "python",
   "nbconvert_exporter": "python",
   "pygments_lexer": "ipython3",
   "version": "3.6.0"
  }
 },
 "nbformat": 4,
 "nbformat_minor": 4
}
